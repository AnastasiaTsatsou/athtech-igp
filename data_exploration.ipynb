{
 "cells": [
  {
   "cell_type": "markdown",
   "metadata": {},
   "source": [
    "# Exploration of the Olist Dataset"
   ]
  },
  {
   "cell_type": "code",
   "execution_count": 2,
   "metadata": {},
   "outputs": [],
   "source": [
    "import pandas as pd\n",
    "import numpy as np\n",
    "import matplotlib.pyplot as plt\n",
    "import seaborn as sns"
   ]
  },
  {
   "cell_type": "markdown",
   "metadata": {},
   "source": [
    "## Load the dataset"
   ]
  },
  {
   "cell_type": "code",
   "execution_count": 3,
   "metadata": {},
   "outputs": [],
   "source": [
    "customers = pd.read_csv('olist_dataset/olist_customers_dataset.csv')\n",
    "geolocation = pd.read_csv('olist_dataset/olist_geolocation_dataset.csv')\n",
    "order_items = pd.read_csv('olist_dataset/olist_order_items_dataset.csv')\n",
    "order_payments = pd.read_csv('olist_dataset/olist_order_payments_dataset.csv')\n",
    "order_reviews = pd.read_csv('olist_dataset/olist_order_reviews_dataset.csv')\n",
    "orders = pd.read_csv('olist_dataset/olist_orders_dataset.csv')\n",
    "products = pd.read_csv('olist_dataset/olist_products_dataset.csv')\n",
    "sellers = pd.read_csv('olist_dataset/olist_sellers_dataset.csv')\n",
    "product_category_name_translation = pd.read_csv('olist_dataset/product_category_name_translation.csv')"
   ]
  },
  {
   "cell_type": "markdown",
   "metadata": {},
   "source": [
    "## Customers Dataset"
   ]
  },
  {
   "cell_type": "code",
   "execution_count": 4,
   "metadata": {},
   "outputs": [
    {
     "data": {
      "text/plain": [
       "customer_id                 object\n",
       "customer_unique_id          object\n",
       "customer_zip_code_prefix     int64\n",
       "customer_city               object\n",
       "customer_state              object\n",
       "dtype: object"
      ]
     },
     "execution_count": 4,
     "metadata": {},
     "output_type": "execute_result"
    }
   ],
   "source": [
    "customers.dtypes # Checking the data types of the customers dataset"
   ]
  },
  {
   "cell_type": "code",
   "execution_count": 5,
   "metadata": {},
   "outputs": [
    {
     "data": {
      "text/html": [
       "<div>\n",
       "<style scoped>\n",
       "    .dataframe tbody tr th:only-of-type {\n",
       "        vertical-align: middle;\n",
       "    }\n",
       "\n",
       "    .dataframe tbody tr th {\n",
       "        vertical-align: top;\n",
       "    }\n",
       "\n",
       "    .dataframe thead th {\n",
       "        text-align: right;\n",
       "    }\n",
       "</style>\n",
       "<table border=\"1\" class=\"dataframe\">\n",
       "  <thead>\n",
       "    <tr style=\"text-align: right;\">\n",
       "      <th></th>\n",
       "      <th>customer_id</th>\n",
       "      <th>customer_unique_id</th>\n",
       "      <th>customer_zip_code_prefix</th>\n",
       "      <th>customer_city</th>\n",
       "      <th>customer_state</th>\n",
       "    </tr>\n",
       "  </thead>\n",
       "  <tbody>\n",
       "    <tr>\n",
       "      <th>0</th>\n",
       "      <td>06b8999e2fba1a1fbc88172c00ba8bc7</td>\n",
       "      <td>861eff4711a542e4b93843c6dd7febb0</td>\n",
       "      <td>14409</td>\n",
       "      <td>franca</td>\n",
       "      <td>SP</td>\n",
       "    </tr>\n",
       "    <tr>\n",
       "      <th>1</th>\n",
       "      <td>18955e83d337fd6b2def6b18a428ac77</td>\n",
       "      <td>290c77bc529b7ac935b93aa66c333dc3</td>\n",
       "      <td>9790</td>\n",
       "      <td>sao bernardo do campo</td>\n",
       "      <td>SP</td>\n",
       "    </tr>\n",
       "    <tr>\n",
       "      <th>2</th>\n",
       "      <td>4e7b3e00288586ebd08712fdd0374a03</td>\n",
       "      <td>060e732b5b29e8181a18229c7b0b2b5e</td>\n",
       "      <td>1151</td>\n",
       "      <td>sao paulo</td>\n",
       "      <td>SP</td>\n",
       "    </tr>\n",
       "    <tr>\n",
       "      <th>3</th>\n",
       "      <td>b2b6027bc5c5109e529d4dc6358b12c3</td>\n",
       "      <td>259dac757896d24d7702b9acbbff3f3c</td>\n",
       "      <td>8775</td>\n",
       "      <td>mogi das cruzes</td>\n",
       "      <td>SP</td>\n",
       "    </tr>\n",
       "    <tr>\n",
       "      <th>4</th>\n",
       "      <td>4f2d8ab171c80ec8364f7c12e35b23ad</td>\n",
       "      <td>345ecd01c38d18a9036ed96c73b8d066</td>\n",
       "      <td>13056</td>\n",
       "      <td>campinas</td>\n",
       "      <td>SP</td>\n",
       "    </tr>\n",
       "  </tbody>\n",
       "</table>\n",
       "</div>"
      ],
      "text/plain": [
       "                        customer_id                customer_unique_id  \\\n",
       "0  06b8999e2fba1a1fbc88172c00ba8bc7  861eff4711a542e4b93843c6dd7febb0   \n",
       "1  18955e83d337fd6b2def6b18a428ac77  290c77bc529b7ac935b93aa66c333dc3   \n",
       "2  4e7b3e00288586ebd08712fdd0374a03  060e732b5b29e8181a18229c7b0b2b5e   \n",
       "3  b2b6027bc5c5109e529d4dc6358b12c3  259dac757896d24d7702b9acbbff3f3c   \n",
       "4  4f2d8ab171c80ec8364f7c12e35b23ad  345ecd01c38d18a9036ed96c73b8d066   \n",
       "\n",
       "   customer_zip_code_prefix          customer_city customer_state  \n",
       "0                     14409                 franca             SP  \n",
       "1                      9790  sao bernardo do campo             SP  \n",
       "2                      1151              sao paulo             SP  \n",
       "3                      8775        mogi das cruzes             SP  \n",
       "4                     13056               campinas             SP  "
      ]
     },
     "execution_count": 5,
     "metadata": {},
     "output_type": "execute_result"
    }
   ],
   "source": [
    "customers.head() # Display the first few rows of the customers dataset"
   ]
  },
  {
   "cell_type": "code",
   "execution_count": 6,
   "metadata": {},
   "outputs": [
    {
     "name": "stdout",
     "output_type": "stream",
     "text": [
      "<class 'pandas.core.frame.DataFrame'>\n",
      "RangeIndex: 99441 entries, 0 to 99440\n",
      "Data columns (total 5 columns):\n",
      " #   Column                    Non-Null Count  Dtype \n",
      "---  ------                    --------------  ----- \n",
      " 0   customer_id               99441 non-null  object\n",
      " 1   customer_unique_id        99441 non-null  object\n",
      " 2   customer_zip_code_prefix  99441 non-null  int64 \n",
      " 3   customer_city             99441 non-null  object\n",
      " 4   customer_state            99441 non-null  object\n",
      "dtypes: int64(1), object(4)\n",
      "memory usage: 3.8+ MB\n"
     ]
    }
   ],
   "source": [
    "customers.info() # Get information about the customers dataset"
   ]
  },
  {
   "cell_type": "code",
   "execution_count": 7,
   "metadata": {},
   "outputs": [
    {
     "data": {
      "text/plain": [
       "99441"
      ]
     },
     "execution_count": 7,
     "metadata": {},
     "output_type": "execute_result"
    }
   ],
   "source": [
    "customers['customer_id'].nunique() # Count unique customer IDs"
   ]
  },
  {
   "cell_type": "code",
   "execution_count": 8,
   "metadata": {},
   "outputs": [
    {
     "data": {
      "text/plain": [
       "96096"
      ]
     },
     "execution_count": 8,
     "metadata": {},
     "output_type": "execute_result"
    }
   ],
   "source": [
    "customers['customer_unique_id'].nunique() # Count unique customer unique IDs"
   ]
  },
  {
   "cell_type": "code",
   "execution_count": 9,
   "metadata": {},
   "outputs": [
    {
     "data": {
      "text/html": [
       "<div>\n",
       "<style scoped>\n",
       "    .dataframe tbody tr th:only-of-type {\n",
       "        vertical-align: middle;\n",
       "    }\n",
       "\n",
       "    .dataframe tbody tr th {\n",
       "        vertical-align: top;\n",
       "    }\n",
       "\n",
       "    .dataframe thead th {\n",
       "        text-align: right;\n",
       "    }\n",
       "</style>\n",
       "<table border=\"1\" class=\"dataframe\">\n",
       "  <thead>\n",
       "    <tr style=\"text-align: right;\">\n",
       "      <th></th>\n",
       "      <th>customer_id</th>\n",
       "      <th>customer_unique_id</th>\n",
       "      <th>customer_zip_code_prefix</th>\n",
       "      <th>customer_city</th>\n",
       "      <th>customer_state</th>\n",
       "    </tr>\n",
       "  </thead>\n",
       "  <tbody>\n",
       "    <tr>\n",
       "      <th>5</th>\n",
       "      <td>879864dab9bc3047522c92c82e1212b8</td>\n",
       "      <td>4c93744516667ad3b8f1fb645a3116a4</td>\n",
       "      <td>89254</td>\n",
       "      <td>jaragua do sul</td>\n",
       "      <td>SC</td>\n",
       "    </tr>\n",
       "    <tr>\n",
       "      <th>8</th>\n",
       "      <td>5adf08e34b2e993982a47070956c5c65</td>\n",
       "      <td>1175e95fb47ddff9de6b2b06188f7e0d</td>\n",
       "      <td>81560</td>\n",
       "      <td>curitiba</td>\n",
       "      <td>PR</td>\n",
       "    </tr>\n",
       "    <tr>\n",
       "      <th>13</th>\n",
       "      <td>eabebad39a88bb6f5b52376faec28612</td>\n",
       "      <td>295c05e81917928d76245e842748184d</td>\n",
       "      <td>5704</td>\n",
       "      <td>sao paulo</td>\n",
       "      <td>SP</td>\n",
       "    </tr>\n",
       "    <tr>\n",
       "      <th>32</th>\n",
       "      <td>2d5831cb2dff7cdefba62e950ae3dc7b</td>\n",
       "      <td>e9dd12dca17352644a959d9dea133935</td>\n",
       "      <td>42800</td>\n",
       "      <td>camacari</td>\n",
       "      <td>BA</td>\n",
       "    </tr>\n",
       "    <tr>\n",
       "      <th>33</th>\n",
       "      <td>b2bed119388167a954382cca36c4777f</td>\n",
       "      <td>e079b18794454de9d2be5c12b4392294</td>\n",
       "      <td>27525</td>\n",
       "      <td>resende</td>\n",
       "      <td>RJ</td>\n",
       "    </tr>\n",
       "    <tr>\n",
       "      <th>...</th>\n",
       "      <td>...</td>\n",
       "      <td>...</td>\n",
       "      <td>...</td>\n",
       "      <td>...</td>\n",
       "      <td>...</td>\n",
       "    </tr>\n",
       "    <tr>\n",
       "      <th>99324</th>\n",
       "      <td>5b46a0d983eec8c97363bea78d4a69dd</td>\n",
       "      <td>8bab3162259edfaadd1ea2e1fe7f58dc</td>\n",
       "      <td>31565</td>\n",
       "      <td>belo horizonte</td>\n",
       "      <td>MG</td>\n",
       "    </tr>\n",
       "    <tr>\n",
       "      <th>99327</th>\n",
       "      <td>c1affa46f9f3b514555259049a0307b9</td>\n",
       "      <td>12ab9334b1240d6d037f2b0102a49571</td>\n",
       "      <td>38050</td>\n",
       "      <td>uberaba</td>\n",
       "      <td>MG</td>\n",
       "    </tr>\n",
       "    <tr>\n",
       "      <th>99336</th>\n",
       "      <td>ebf46ff530343a129926adc1f831dea4</td>\n",
       "      <td>0ee57f62666561b72f2ceacad0230cbf</td>\n",
       "      <td>9530</td>\n",
       "      <td>sao caetano do sul</td>\n",
       "      <td>SP</td>\n",
       "    </tr>\n",
       "    <tr>\n",
       "      <th>99353</th>\n",
       "      <td>282fbce48e4d2077aad602dd125c9225</td>\n",
       "      <td>0ceb502fc33a2ad327b08288c5310e2e</td>\n",
       "      <td>29134</td>\n",
       "      <td>viana</td>\n",
       "      <td>ES</td>\n",
       "    </tr>\n",
       "    <tr>\n",
       "      <th>99406</th>\n",
       "      <td>d9110683c7a282144e9fc97660026a28</td>\n",
       "      <td>5cbfdb85ec130898108b32c50d619c39</td>\n",
       "      <td>74980</td>\n",
       "      <td>aparecida de goiania</td>\n",
       "      <td>GO</td>\n",
       "    </tr>\n",
       "  </tbody>\n",
       "</table>\n",
       "<p>6342 rows × 5 columns</p>\n",
       "</div>"
      ],
      "text/plain": [
       "                            customer_id                customer_unique_id  \\\n",
       "5      879864dab9bc3047522c92c82e1212b8  4c93744516667ad3b8f1fb645a3116a4   \n",
       "8      5adf08e34b2e993982a47070956c5c65  1175e95fb47ddff9de6b2b06188f7e0d   \n",
       "13     eabebad39a88bb6f5b52376faec28612  295c05e81917928d76245e842748184d   \n",
       "32     2d5831cb2dff7cdefba62e950ae3dc7b  e9dd12dca17352644a959d9dea133935   \n",
       "33     b2bed119388167a954382cca36c4777f  e079b18794454de9d2be5c12b4392294   \n",
       "...                                 ...                               ...   \n",
       "99324  5b46a0d983eec8c97363bea78d4a69dd  8bab3162259edfaadd1ea2e1fe7f58dc   \n",
       "99327  c1affa46f9f3b514555259049a0307b9  12ab9334b1240d6d037f2b0102a49571   \n",
       "99336  ebf46ff530343a129926adc1f831dea4  0ee57f62666561b72f2ceacad0230cbf   \n",
       "99353  282fbce48e4d2077aad602dd125c9225  0ceb502fc33a2ad327b08288c5310e2e   \n",
       "99406  d9110683c7a282144e9fc97660026a28  5cbfdb85ec130898108b32c50d619c39   \n",
       "\n",
       "       customer_zip_code_prefix         customer_city customer_state  \n",
       "5                         89254        jaragua do sul             SC  \n",
       "8                         81560              curitiba             PR  \n",
       "13                         5704             sao paulo             SP  \n",
       "32                        42800              camacari             BA  \n",
       "33                        27525               resende             RJ  \n",
       "...                         ...                   ...            ...  \n",
       "99324                     31565        belo horizonte             MG  \n",
       "99327                     38050               uberaba             MG  \n",
       "99336                      9530    sao caetano do sul             SP  \n",
       "99353                     29134                 viana             ES  \n",
       "99406                     74980  aparecida de goiania             GO  \n",
       "\n",
       "[6342 rows x 5 columns]"
      ]
     },
     "execution_count": 9,
     "metadata": {},
     "output_type": "execute_result"
    }
   ],
   "source": [
    "duplicate_customers = customers[customers['customer_unique_id'].duplicated(keep=False)]\n",
    "duplicate_customers"
   ]
  },
  {
   "cell_type": "code",
   "execution_count": 10,
   "metadata": {},
   "outputs": [
    {
     "data": {
      "text/plain": [
       "customer_unique_id\n",
       "8d50f5eadf50201ccdcedfb9e2ac8455    17\n",
       "3e43e6105506432c953e165fb2acf44c     9\n",
       "1b6c7548a2a1f9037c1fd3ddfed95f33     7\n",
       "ca77025e7201e3b30c44b472ff346268     7\n",
       "6469f99c1f9dfae7733b25662e7f1782     7\n",
       "                                    ..\n",
       "941590fb8aef66b3a8352fe7c691879e     2\n",
       "9ccfff93c79f3dd996cce15f26480c5b     2\n",
       "801b53359d2880a9bff63574103fb74c     2\n",
       "cb5c545d96f39390b7f372aaa88c4a7e     2\n",
       "da29b8a3970adddb9ed2dc8a492065af     2\n",
       "Name: count, Length: 2997, dtype: int64"
      ]
     },
     "execution_count": 10,
     "metadata": {},
     "output_type": "execute_result"
    }
   ],
   "source": [
    "duplicate_customers['customer_unique_id'].value_counts() # Count the number of duplicates for each unique ID"
   ]
  },
  {
   "cell_type": "code",
   "execution_count": 11,
   "metadata": {},
   "outputs": [
    {
     "data": {
      "text/html": [
       "<div>\n",
       "<style scoped>\n",
       "    .dataframe tbody tr th:only-of-type {\n",
       "        vertical-align: middle;\n",
       "    }\n",
       "\n",
       "    .dataframe tbody tr th {\n",
       "        vertical-align: top;\n",
       "    }\n",
       "\n",
       "    .dataframe thead th {\n",
       "        text-align: right;\n",
       "    }\n",
       "</style>\n",
       "<table border=\"1\" class=\"dataframe\">\n",
       "  <thead>\n",
       "    <tr style=\"text-align: right;\">\n",
       "      <th></th>\n",
       "      <th>customer_id</th>\n",
       "      <th>customer_unique_id</th>\n",
       "      <th>customer_zip_code_prefix</th>\n",
       "      <th>customer_city</th>\n",
       "      <th>customer_state</th>\n",
       "    </tr>\n",
       "  </thead>\n",
       "  <tbody>\n",
       "    <tr>\n",
       "      <th>14186</th>\n",
       "      <td>1bd3585471932167ab72a84955ebefea</td>\n",
       "      <td>8d50f5eadf50201ccdcedfb9e2ac8455</td>\n",
       "      <td>4045</td>\n",
       "      <td>sao paulo</td>\n",
       "      <td>SP</td>\n",
       "    </tr>\n",
       "    <tr>\n",
       "      <th>15321</th>\n",
       "      <td>a8fabc805e9a10a3c93ae5bff642b86b</td>\n",
       "      <td>8d50f5eadf50201ccdcedfb9e2ac8455</td>\n",
       "      <td>4045</td>\n",
       "      <td>sao paulo</td>\n",
       "      <td>SP</td>\n",
       "    </tr>\n",
       "    <tr>\n",
       "      <th>16654</th>\n",
       "      <td>897b7f72042714efaa64ac306ba0cafc</td>\n",
       "      <td>8d50f5eadf50201ccdcedfb9e2ac8455</td>\n",
       "      <td>4045</td>\n",
       "      <td>sao paulo</td>\n",
       "      <td>SP</td>\n",
       "    </tr>\n",
       "    <tr>\n",
       "      <th>36122</th>\n",
       "      <td>b2b13de0770e06de50080fea77c459e6</td>\n",
       "      <td>8d50f5eadf50201ccdcedfb9e2ac8455</td>\n",
       "      <td>4045</td>\n",
       "      <td>sao paulo</td>\n",
       "      <td>SP</td>\n",
       "    </tr>\n",
       "    <tr>\n",
       "      <th>38073</th>\n",
       "      <td>42dbc1ad9d560637c9c4c1533746f86d</td>\n",
       "      <td>8d50f5eadf50201ccdcedfb9e2ac8455</td>\n",
       "      <td>4045</td>\n",
       "      <td>sao paulo</td>\n",
       "      <td>SP</td>\n",
       "    </tr>\n",
       "    <tr>\n",
       "      <th>40141</th>\n",
       "      <td>dfb941d6f7b02f57a44c3b7c3fefb44b</td>\n",
       "      <td>8d50f5eadf50201ccdcedfb9e2ac8455</td>\n",
       "      <td>4045</td>\n",
       "      <td>sao paulo</td>\n",
       "      <td>SP</td>\n",
       "    </tr>\n",
       "    <tr>\n",
       "      <th>48614</th>\n",
       "      <td>65f9db9dd07a4e79b625effa4c868fcb</td>\n",
       "      <td>8d50f5eadf50201ccdcedfb9e2ac8455</td>\n",
       "      <td>4045</td>\n",
       "      <td>sao paulo</td>\n",
       "      <td>SP</td>\n",
       "    </tr>\n",
       "    <tr>\n",
       "      <th>52574</th>\n",
       "      <td>1c62b48fb34ee043310dcb233caabd2e</td>\n",
       "      <td>8d50f5eadf50201ccdcedfb9e2ac8455</td>\n",
       "      <td>4045</td>\n",
       "      <td>sao paulo</td>\n",
       "      <td>SP</td>\n",
       "    </tr>\n",
       "    <tr>\n",
       "      <th>58707</th>\n",
       "      <td>a682769c4bc10fc6ef2101337a6c83c9</td>\n",
       "      <td>8d50f5eadf50201ccdcedfb9e2ac8455</td>\n",
       "      <td>4045</td>\n",
       "      <td>sao paulo</td>\n",
       "      <td>SP</td>\n",
       "    </tr>\n",
       "    <tr>\n",
       "      <th>67996</th>\n",
       "      <td>6289b75219d757a56c0cce8d9e427900</td>\n",
       "      <td>8d50f5eadf50201ccdcedfb9e2ac8455</td>\n",
       "      <td>4045</td>\n",
       "      <td>sao paulo</td>\n",
       "      <td>SP</td>\n",
       "    </tr>\n",
       "    <tr>\n",
       "      <th>72745</th>\n",
       "      <td>3414a9c813e3ca02504b8be8b2deb27f</td>\n",
       "      <td>8d50f5eadf50201ccdcedfb9e2ac8455</td>\n",
       "      <td>4045</td>\n",
       "      <td>sao paulo</td>\n",
       "      <td>SP</td>\n",
       "    </tr>\n",
       "    <tr>\n",
       "      <th>74510</th>\n",
       "      <td>0e4fdc084a6b9329ed55d62dcd653ccf</td>\n",
       "      <td>8d50f5eadf50201ccdcedfb9e2ac8455</td>\n",
       "      <td>4045</td>\n",
       "      <td>sao paulo</td>\n",
       "      <td>SP</td>\n",
       "    </tr>\n",
       "    <tr>\n",
       "      <th>83363</th>\n",
       "      <td>f5188d99e9281e214a4a7d1b139a8229</td>\n",
       "      <td>8d50f5eadf50201ccdcedfb9e2ac8455</td>\n",
       "      <td>4045</td>\n",
       "      <td>sao paulo</td>\n",
       "      <td>SP</td>\n",
       "    </tr>\n",
       "    <tr>\n",
       "      <th>85507</th>\n",
       "      <td>89be66634d68fa73a95499b6352e085d</td>\n",
       "      <td>8d50f5eadf50201ccdcedfb9e2ac8455</td>\n",
       "      <td>4045</td>\n",
       "      <td>sao paulo</td>\n",
       "      <td>SP</td>\n",
       "    </tr>\n",
       "    <tr>\n",
       "      <th>90268</th>\n",
       "      <td>0bf8bf19944a7f8b40ba86fef778ca7c</td>\n",
       "      <td>8d50f5eadf50201ccdcedfb9e2ac8455</td>\n",
       "      <td>4045</td>\n",
       "      <td>sao paulo</td>\n",
       "      <td>SP</td>\n",
       "    </tr>\n",
       "    <tr>\n",
       "      <th>93591</th>\n",
       "      <td>9a1afef458843a022e431f4cb304dfe9</td>\n",
       "      <td>8d50f5eadf50201ccdcedfb9e2ac8455</td>\n",
       "      <td>4045</td>\n",
       "      <td>sao paulo</td>\n",
       "      <td>SP</td>\n",
       "    </tr>\n",
       "    <tr>\n",
       "      <th>96652</th>\n",
       "      <td>31dd055624c66f291578297a551a6cdf</td>\n",
       "      <td>8d50f5eadf50201ccdcedfb9e2ac8455</td>\n",
       "      <td>4045</td>\n",
       "      <td>sao paulo</td>\n",
       "      <td>SP</td>\n",
       "    </tr>\n",
       "  </tbody>\n",
       "</table>\n",
       "</div>"
      ],
      "text/plain": [
       "                            customer_id                customer_unique_id  \\\n",
       "14186  1bd3585471932167ab72a84955ebefea  8d50f5eadf50201ccdcedfb9e2ac8455   \n",
       "15321  a8fabc805e9a10a3c93ae5bff642b86b  8d50f5eadf50201ccdcedfb9e2ac8455   \n",
       "16654  897b7f72042714efaa64ac306ba0cafc  8d50f5eadf50201ccdcedfb9e2ac8455   \n",
       "36122  b2b13de0770e06de50080fea77c459e6  8d50f5eadf50201ccdcedfb9e2ac8455   \n",
       "38073  42dbc1ad9d560637c9c4c1533746f86d  8d50f5eadf50201ccdcedfb9e2ac8455   \n",
       "40141  dfb941d6f7b02f57a44c3b7c3fefb44b  8d50f5eadf50201ccdcedfb9e2ac8455   \n",
       "48614  65f9db9dd07a4e79b625effa4c868fcb  8d50f5eadf50201ccdcedfb9e2ac8455   \n",
       "52574  1c62b48fb34ee043310dcb233caabd2e  8d50f5eadf50201ccdcedfb9e2ac8455   \n",
       "58707  a682769c4bc10fc6ef2101337a6c83c9  8d50f5eadf50201ccdcedfb9e2ac8455   \n",
       "67996  6289b75219d757a56c0cce8d9e427900  8d50f5eadf50201ccdcedfb9e2ac8455   \n",
       "72745  3414a9c813e3ca02504b8be8b2deb27f  8d50f5eadf50201ccdcedfb9e2ac8455   \n",
       "74510  0e4fdc084a6b9329ed55d62dcd653ccf  8d50f5eadf50201ccdcedfb9e2ac8455   \n",
       "83363  f5188d99e9281e214a4a7d1b139a8229  8d50f5eadf50201ccdcedfb9e2ac8455   \n",
       "85507  89be66634d68fa73a95499b6352e085d  8d50f5eadf50201ccdcedfb9e2ac8455   \n",
       "90268  0bf8bf19944a7f8b40ba86fef778ca7c  8d50f5eadf50201ccdcedfb9e2ac8455   \n",
       "93591  9a1afef458843a022e431f4cb304dfe9  8d50f5eadf50201ccdcedfb9e2ac8455   \n",
       "96652  31dd055624c66f291578297a551a6cdf  8d50f5eadf50201ccdcedfb9e2ac8455   \n",
       "\n",
       "       customer_zip_code_prefix customer_city customer_state  \n",
       "14186                      4045     sao paulo             SP  \n",
       "15321                      4045     sao paulo             SP  \n",
       "16654                      4045     sao paulo             SP  \n",
       "36122                      4045     sao paulo             SP  \n",
       "38073                      4045     sao paulo             SP  \n",
       "40141                      4045     sao paulo             SP  \n",
       "48614                      4045     sao paulo             SP  \n",
       "52574                      4045     sao paulo             SP  \n",
       "58707                      4045     sao paulo             SP  \n",
       "67996                      4045     sao paulo             SP  \n",
       "72745                      4045     sao paulo             SP  \n",
       "74510                      4045     sao paulo             SP  \n",
       "83363                      4045     sao paulo             SP  \n",
       "85507                      4045     sao paulo             SP  \n",
       "90268                      4045     sao paulo             SP  \n",
       "93591                      4045     sao paulo             SP  \n",
       "96652                      4045     sao paulo             SP  "
      ]
     },
     "execution_count": 11,
     "metadata": {},
     "output_type": "execute_result"
    }
   ],
   "source": [
    "customers[customers['customer_unique_id'] == '8d50f5eadf50201ccdcedfb9e2ac8455']"
   ]
  },
  {
   "cell_type": "code",
   "execution_count": 16,
   "metadata": {},
   "outputs": [
    {
     "data": {
      "text/html": [
       "<div>\n",
       "<style scoped>\n",
       "    .dataframe tbody tr th:only-of-type {\n",
       "        vertical-align: middle;\n",
       "    }\n",
       "\n",
       "    .dataframe tbody tr th {\n",
       "        vertical-align: top;\n",
       "    }\n",
       "\n",
       "    .dataframe thead th {\n",
       "        text-align: right;\n",
       "    }\n",
       "</style>\n",
       "<table border=\"1\" class=\"dataframe\">\n",
       "  <thead>\n",
       "    <tr style=\"text-align: right;\">\n",
       "      <th></th>\n",
       "      <th>customer_id</th>\n",
       "      <th>customer_unique_id</th>\n",
       "      <th>customer_zip_code_prefix</th>\n",
       "      <th>customer_city</th>\n",
       "      <th>customer_state</th>\n",
       "    </tr>\n",
       "  </thead>\n",
       "  <tbody>\n",
       "    <tr>\n",
       "      <th>45851</th>\n",
       "      <td>844a7e5d2737f2f6667a5242486cbcb1</td>\n",
       "      <td>d44ccec15f5f86d14d6a2cfa67da1975</td>\n",
       "      <td>3533</td>\n",
       "      <td>sao paulo</td>\n",
       "      <td>SP</td>\n",
       "    </tr>\n",
       "    <tr>\n",
       "      <th>57951</th>\n",
       "      <td>105e31e3b36d904c70058578126c4d12</td>\n",
       "      <td>d44ccec15f5f86d14d6a2cfa67da1975</td>\n",
       "      <td>62800</td>\n",
       "      <td>aracati</td>\n",
       "      <td>CE</td>\n",
       "    </tr>\n",
       "    <tr>\n",
       "      <th>83347</th>\n",
       "      <td>488dd91f70d8404b2aa677cdc8a0de68</td>\n",
       "      <td>d44ccec15f5f86d14d6a2cfa67da1975</td>\n",
       "      <td>88371</td>\n",
       "      <td>navegantes</td>\n",
       "      <td>SC</td>\n",
       "    </tr>\n",
       "  </tbody>\n",
       "</table>\n",
       "</div>"
      ],
      "text/plain": [
       "                            customer_id                customer_unique_id  \\\n",
       "45851  844a7e5d2737f2f6667a5242486cbcb1  d44ccec15f5f86d14d6a2cfa67da1975   \n",
       "57951  105e31e3b36d904c70058578126c4d12  d44ccec15f5f86d14d6a2cfa67da1975   \n",
       "83347  488dd91f70d8404b2aa677cdc8a0de68  d44ccec15f5f86d14d6a2cfa67da1975   \n",
       "\n",
       "       customer_zip_code_prefix customer_city customer_state  \n",
       "45851                      3533     sao paulo             SP  \n",
       "57951                     62800       aracati             CE  \n",
       "83347                     88371    navegantes             SC  "
      ]
     },
     "execution_count": 16,
     "metadata": {},
     "output_type": "execute_result"
    }
   ],
   "source": [
    "customers[customers['customer_unique_id'] == 'd44ccec15f5f86d14d6a2cfa67da1975']"
   ]
  },
  {
   "cell_type": "code",
   "execution_count": null,
   "metadata": {},
   "outputs": [
    {
     "data": {
      "text/plain": [
       "252"
      ]
     },
     "execution_count": 80,
     "metadata": {},
     "output_type": "execute_result"
    }
   ],
   "source": [
    "# Check for duplicates with differing values in specified columns\n",
    "diff_values = duplicate_customers.groupby('customer_unique_id').nunique()\n",
    "diff_counts = diff_values[(diff_values['customer_zip_code_prefix'] > 1) | \n",
    "                          (diff_values['customer_city'] > 1) | \n",
    "                          (diff_values['customer_state'] > 1)]\n",
    "\n",
    "# Display the count of such customers\n",
    "len(diff_counts)"
   ]
  },
  {
   "cell_type": "code",
   "execution_count": null,
   "metadata": {},
   "outputs": [
    {
     "data": {
      "text/html": [
       "<div>\n",
       "<style scoped>\n",
       "    .dataframe tbody tr th:only-of-type {\n",
       "        vertical-align: middle;\n",
       "    }\n",
       "\n",
       "    .dataframe tbody tr th {\n",
       "        vertical-align: top;\n",
       "    }\n",
       "\n",
       "    .dataframe thead th {\n",
       "        text-align: right;\n",
       "    }\n",
       "</style>\n",
       "<table border=\"1\" class=\"dataframe\">\n",
       "  <thead>\n",
       "    <tr style=\"text-align: right;\">\n",
       "      <th></th>\n",
       "      <th>customer_id</th>\n",
       "      <th>customer_zip_code_prefix</th>\n",
       "      <th>customer_city</th>\n",
       "      <th>customer_state</th>\n",
       "    </tr>\n",
       "    <tr>\n",
       "      <th>customer_unique_id</th>\n",
       "      <th></th>\n",
       "      <th></th>\n",
       "      <th></th>\n",
       "      <th></th>\n",
       "    </tr>\n",
       "  </thead>\n",
       "  <tbody>\n",
       "    <tr>\n",
       "      <th>3e43e6105506432c953e165fb2acf44c</th>\n",
       "      <td>9</td>\n",
       "      <td>3</td>\n",
       "      <td>1</td>\n",
       "      <td>1</td>\n",
       "    </tr>\n",
       "    <tr>\n",
       "      <th>d44ccec15f5f86d14d6a2cfa67da1975</th>\n",
       "      <td>3</td>\n",
       "      <td>3</td>\n",
       "      <td>3</td>\n",
       "      <td>3</td>\n",
       "    </tr>\n",
       "    <tr>\n",
       "      <th>b9badb100ff8ecc16a403111209e3a06</th>\n",
       "      <td>3</td>\n",
       "      <td>3</td>\n",
       "      <td>2</td>\n",
       "      <td>2</td>\n",
       "    </tr>\n",
       "    <tr>\n",
       "      <th>9832ae2f7d3e5fa4c7a1a06e9551bc61</th>\n",
       "      <td>3</td>\n",
       "      <td>3</td>\n",
       "      <td>2</td>\n",
       "      <td>1</td>\n",
       "    </tr>\n",
       "    <tr>\n",
       "      <th>018b5a7502c30eb5f230f1b4eb23a156</th>\n",
       "      <td>2</td>\n",
       "      <td>2</td>\n",
       "      <td>1</td>\n",
       "      <td>1</td>\n",
       "    </tr>\n",
       "    <tr>\n",
       "      <th>031ea691b99fc101dcad357d1a83573f</th>\n",
       "      <td>2</td>\n",
       "      <td>2</td>\n",
       "      <td>1</td>\n",
       "      <td>1</td>\n",
       "    </tr>\n",
       "    <tr>\n",
       "      <th>0451ef5a31cea3e14ce02d768d7c9943</th>\n",
       "      <td>2</td>\n",
       "      <td>2</td>\n",
       "      <td>1</td>\n",
       "      <td>1</td>\n",
       "    </tr>\n",
       "    <tr>\n",
       "      <th>08fb46d35bb3ab4037202c23592d1259</th>\n",
       "      <td>2</td>\n",
       "      <td>2</td>\n",
       "      <td>2</td>\n",
       "      <td>1</td>\n",
       "    </tr>\n",
       "    <tr>\n",
       "      <th>09d74edf20acb4f9523fb1cf19a18456</th>\n",
       "      <td>2</td>\n",
       "      <td>2</td>\n",
       "      <td>2</td>\n",
       "      <td>1</td>\n",
       "    </tr>\n",
       "    <tr>\n",
       "      <th>004b45ec5c64187465168251cd1c9c2f</th>\n",
       "      <td>2</td>\n",
       "      <td>2</td>\n",
       "      <td>1</td>\n",
       "      <td>1</td>\n",
       "    </tr>\n",
       "  </tbody>\n",
       "</table>\n",
       "</div>"
      ],
      "text/plain": [
       "                                  customer_id  customer_zip_code_prefix  \\\n",
       "customer_unique_id                                                        \n",
       "3e43e6105506432c953e165fb2acf44c            9                         3   \n",
       "d44ccec15f5f86d14d6a2cfa67da1975            3                         3   \n",
       "b9badb100ff8ecc16a403111209e3a06            3                         3   \n",
       "9832ae2f7d3e5fa4c7a1a06e9551bc61            3                         3   \n",
       "018b5a7502c30eb5f230f1b4eb23a156            2                         2   \n",
       "031ea691b99fc101dcad357d1a83573f            2                         2   \n",
       "0451ef5a31cea3e14ce02d768d7c9943            2                         2   \n",
       "08fb46d35bb3ab4037202c23592d1259            2                         2   \n",
       "09d74edf20acb4f9523fb1cf19a18456            2                         2   \n",
       "004b45ec5c64187465168251cd1c9c2f            2                         2   \n",
       "\n",
       "                                  customer_city  customer_state  \n",
       "customer_unique_id                                               \n",
       "3e43e6105506432c953e165fb2acf44c              1               1  \n",
       "d44ccec15f5f86d14d6a2cfa67da1975              3               3  \n",
       "b9badb100ff8ecc16a403111209e3a06              2               2  \n",
       "9832ae2f7d3e5fa4c7a1a06e9551bc61              2               1  \n",
       "018b5a7502c30eb5f230f1b4eb23a156              1               1  \n",
       "031ea691b99fc101dcad357d1a83573f              1               1  \n",
       "0451ef5a31cea3e14ce02d768d7c9943              1               1  \n",
       "08fb46d35bb3ab4037202c23592d1259              2               1  \n",
       "09d74edf20acb4f9523fb1cf19a18456              2               1  \n",
       "004b45ec5c64187465168251cd1c9c2f              1               1  "
      ]
     },
     "execution_count": 81,
     "metadata": {},
     "output_type": "execute_result"
    }
   ],
   "source": [
    "diff_counts.sort_values('customer_zip_code_prefix', ascending=False).head(10) # Display the first 10 rows of the filtered DataFrame"
   ]
  },
  {
   "cell_type": "code",
   "execution_count": null,
   "metadata": {},
   "outputs": [
    {
     "data": {
      "text/plain": [
       "27"
      ]
     },
     "execution_count": 82,
     "metadata": {},
     "output_type": "execute_result"
    }
   ],
   "source": [
    "customers['customer_state'].nunique() # Count the number of customers in each state"
   ]
  },
  {
   "cell_type": "code",
   "execution_count": null,
   "metadata": {},
   "outputs": [
    {
     "data": {
      "text/plain": [
       "customer_state\n",
       "SP    41746\n",
       "RJ    12852\n",
       "MG    11635\n",
       "RS     5466\n",
       "PR     5045\n",
       "SC     3637\n",
       "BA     3380\n",
       "DF     2140\n",
       "ES     2033\n",
       "GO     2020\n",
       "PE     1652\n",
       "CE     1336\n",
       "PA      975\n",
       "MT      907\n",
       "MA      747\n",
       "MS      715\n",
       "PB      536\n",
       "PI      495\n",
       "RN      485\n",
       "AL      413\n",
       "SE      350\n",
       "TO      280\n",
       "RO      253\n",
       "AM      148\n",
       "AC       81\n",
       "AP       68\n",
       "RR       46\n",
       "Name: count, dtype: int64"
      ]
     },
     "execution_count": 83,
     "metadata": {},
     "output_type": "execute_result"
    }
   ],
   "source": [
    "customers['customer_state'].value_counts() # Count the number of customers in each state"
   ]
  },
  {
   "cell_type": "code",
   "execution_count": null,
   "metadata": {},
   "outputs": [
    {
     "data": {
      "text/plain": [
       "([0,\n",
       "  1,\n",
       "  2,\n",
       "  3,\n",
       "  4,\n",
       "  5,\n",
       "  6,\n",
       "  7,\n",
       "  8,\n",
       "  9,\n",
       "  10,\n",
       "  11,\n",
       "  12,\n",
       "  13,\n",
       "  14,\n",
       "  15,\n",
       "  16,\n",
       "  17,\n",
       "  18,\n",
       "  19,\n",
       "  20,\n",
       "  21,\n",
       "  22,\n",
       "  23,\n",
       "  24,\n",
       "  25,\n",
       "  26],\n",
       " [Text(0, 0, 'SP'),\n",
       "  Text(1, 0, 'RJ'),\n",
       "  Text(2, 0, 'MG'),\n",
       "  Text(3, 0, 'RS'),\n",
       "  Text(4, 0, 'PR'),\n",
       "  Text(5, 0, 'SC'),\n",
       "  Text(6, 0, 'BA'),\n",
       "  Text(7, 0, 'DF'),\n",
       "  Text(8, 0, 'ES'),\n",
       "  Text(9, 0, 'GO'),\n",
       "  Text(10, 0, 'PE'),\n",
       "  Text(11, 0, 'CE'),\n",
       "  Text(12, 0, 'PA'),\n",
       "  Text(13, 0, 'MT'),\n",
       "  Text(14, 0, 'MA'),\n",
       "  Text(15, 0, 'MS'),\n",
       "  Text(16, 0, 'PB'),\n",
       "  Text(17, 0, 'PI'),\n",
       "  Text(18, 0, 'RN'),\n",
       "  Text(19, 0, 'AL'),\n",
       "  Text(20, 0, 'SE'),\n",
       "  Text(21, 0, 'TO'),\n",
       "  Text(22, 0, 'RO'),\n",
       "  Text(23, 0, 'AM'),\n",
       "  Text(24, 0, 'AC'),\n",
       "  Text(25, 0, 'AP'),\n",
       "  Text(26, 0, 'RR')])"
      ]
     },
     "execution_count": 84,
     "metadata": {},
     "output_type": "execute_result"
    },
    {
     "data": {
      "image/png": "[encoded data removed]",
      "text/plain": [
       "<Figure size 640x480 with 1 Axes>"
      ]
     },
     "metadata": {},
     "output_type": "display_data"
    }
   ],
   "source": [
    "names = customers['customer_state'].value_counts().index\n",
    "heights = customers['customer_state'].value_counts()\n",
    "\n",
    "plt.bar(names, heights)\n",
    "\n",
    "plt.xticks(rotation=90)"
   ]
  },
  {
   "cell_type": "code",
   "execution_count": null,
   "metadata": {},
   "outputs": [
    {
     "data": {
      "text/plain": [
       "([0, 1, 2, 3, 4, 5, 6, 7, 8, 9, 10, 11, 12, 13, 14, 15, 16, 17, 18, 19],\n",
       " [Text(0, 0, 'sao paulo'),\n",
       "  Text(1, 0, 'campinas'),\n",
       "  Text(2, 0, 'guarulhos'),\n",
       "  Text(3, 0, 'sao bernardo do campo'),\n",
       "  Text(4, 0, 'santo andre'),\n",
       "  Text(5, 0, 'osasco'),\n",
       "  Text(6, 0, 'santos'),\n",
       "  Text(7, 0, 'sao jose dos campos'),\n",
       "  Text(8, 0, 'sorocaba'),\n",
       "  Text(9, 0, 'jundiai'),\n",
       "  Text(10, 0, 'ribeirao preto'),\n",
       "  Text(11, 0, 'barueri'),\n",
       "  Text(12, 0, 'mogi das cruzes'),\n",
       "  Text(13, 0, 'piracicaba'),\n",
       "  Text(14, 0, 'sao jose do rio preto'),\n",
       "  Text(15, 0, 'carapicuiba'),\n",
       "  Text(16, 0, 'maua'),\n",
       "  Text(17, 0, 'praia grande'),\n",
       "  Text(18, 0, 'taboao da serra'),\n",
       "  Text(19, 0, 'diadema')])"
      ]
     },
     "execution_count": 85,
     "metadata": {},
     "output_type": "execute_result"
    },
    {
     "data": {
      "image/png": "[encoded data removed]",
      "text/plain": [
       "<Figure size 640x480 with 1 Axes>"
      ]
     },
     "metadata": {},
     "output_type": "display_data"
    }
   ],
   "source": [
    "names = customers[customers['customer_state']==\"SP\"]['customer_city'].value_counts().head(20).index\n",
    "heights = customers[customers['customer_state']==\"SP\"]['customer_city'].value_counts().head(20)\n",
    "\n",
    "plt.bar(names, heights)\n",
    "\n",
    "plt.xticks(rotation=90)"
   ]
  },
  {
   "cell_type": "code",
   "execution_count": null,
   "metadata": {},
   "outputs": [
    {
     "data": {
      "text/plain": [
       "([0, 1, 2, 3, 4, 5, 6, 7, 8, 9, 10, 11, 12, 13, 14, 15, 16, 17, 18, 19],\n",
       " [Text(0, 0, 'sao paulo'),\n",
       "  Text(1, 0, 'rio de janeiro'),\n",
       "  Text(2, 0, 'belo horizonte'),\n",
       "  Text(3, 0, 'brasilia'),\n",
       "  Text(4, 0, 'curitiba'),\n",
       "  Text(5, 0, 'campinas'),\n",
       "  Text(6, 0, 'porto alegre'),\n",
       "  Text(7, 0, 'salvador'),\n",
       "  Text(8, 0, 'guarulhos'),\n",
       "  Text(9, 0, 'sao bernardo do campo'),\n",
       "  Text(10, 0, 'niteroi'),\n",
       "  Text(11, 0, 'santo andre'),\n",
       "  Text(12, 0, 'osasco'),\n",
       "  Text(13, 0, 'santos'),\n",
       "  Text(14, 0, 'goiania'),\n",
       "  Text(15, 0, 'sao jose dos campos'),\n",
       "  Text(16, 0, 'fortaleza'),\n",
       "  Text(17, 0, 'sorocaba'),\n",
       "  Text(18, 0, 'recife'),\n",
       "  Text(19, 0, 'florianopolis')])"
      ]
     },
     "execution_count": 86,
     "metadata": {},
     "output_type": "execute_result"
    },
    {
     "data": {
      "image/png": "[encoded data removed]",
      "text/plain": [
       "<Figure size 640x480 with 1 Axes>"
      ]
     },
     "metadata": {},
     "output_type": "display_data"
    }
   ],
   "source": [
    "names = customers['customer_city'].value_counts().head(20).index\n",
    "heights = customers['customer_city'].value_counts().head(20)\n",
    "\n",
    "plt.bar(names, heights)\n",
    "\n",
    "plt.xticks(rotation=90)"
   ]
  },
  {
   "cell_type": "code",
   "execution_count": null,
   "metadata": {},
   "outputs": [
    {
     "data": {
      "text/plain": [
       "customer_state\n",
       "DF    2131\n",
       "Name: count, dtype: int64"
      ]
     },
     "execution_count": 87,
     "metadata": {},
     "output_type": "execute_result"
    }
   ],
   "source": [
    "customers[customers['customer_city'] == 'brasilia']['customer_state'].value_counts() # Count the number of customers in Rio de Janeiro by state"
   ]
  },
  {
   "cell_type": "code",
   "execution_count": null,
   "metadata": {},
   "outputs": [
    {
     "data": {
      "text/plain": [
       "([0, 1, 2, 3, 4, 5, 6, 7, 8, 9, 10, 11, 12, 13, 14, 15, 16, 17, 18, 19],\n",
       " [Text(0, 0, 'porto alegre'),\n",
       "  Text(1, 0, 'caxias do sul'),\n",
       "  Text(2, 0, 'canoas'),\n",
       "  Text(3, 0, 'santa maria'),\n",
       "  Text(4, 0, 'pelotas'),\n",
       "  Text(5, 0, 'rio grande'),\n",
       "  Text(6, 0, 'novo hamburgo'),\n",
       "  Text(7, 0, 'passo fundo'),\n",
       "  Text(8, 0, 'gravatai'),\n",
       "  Text(9, 0, 'sao leopoldo'),\n",
       "  Text(10, 0, 'viamao'),\n",
       "  Text(11, 0, 'cachoeirinha'),\n",
       "  Text(12, 0, 'bage'),\n",
       "  Text(13, 0, 'santa cruz do sul'),\n",
       "  Text(14, 0, 'erechim'),\n",
       "  Text(15, 0, 'bento goncalves'),\n",
       "  Text(16, 0, 'ijui'),\n",
       "  Text(17, 0, 'alvorada'),\n",
       "  Text(18, 0, 'lajeado'),\n",
       "  Text(19, 0, 'uruguaiana')])"
      ]
     },
     "execution_count": 88,
     "metadata": {},
     "output_type": "execute_result"
    },
    {
     "data": {
      "image/png": "[encoded data removed]",
      "text/plain": [
       "<Figure size 640x480 with 1 Axes>"
      ]
     },
     "metadata": {},
     "output_type": "display_data"
    }
   ],
   "source": [
    "names = customers[customers['customer_state']==\"RS\"]['customer_city'].value_counts().head(20).index\n",
    "heights = customers[customers['customer_state']==\"RS\"]['customer_city'].value_counts().head(20)\n",
    "\n",
    "plt.bar(names, heights)\n",
    "\n",
    "plt.xticks(rotation=90)"
   ]
  },
  {
   "cell_type": "markdown",
   "metadata": {},
   "source": [
    "## Orders Dataset"
   ]
  },
  {
   "cell_type": "code",
   "execution_count": null,
   "metadata": {},
   "outputs": [
    {
     "data": {
      "text/html": [
       "<div>\n",
       "<style scoped>\n",
       "    .dataframe tbody tr th:only-of-type {\n",
       "        vertical-align: middle;\n",
       "    }\n",
       "\n",
       "    .dataframe tbody tr th {\n",
       "        vertical-align: top;\n",
       "    }\n",
       "\n",
       "    .dataframe thead th {\n",
       "        text-align: right;\n",
       "    }\n",
       "</style>\n",
       "<table border=\"1\" class=\"dataframe\">\n",
       "  <thead>\n",
       "    <tr style=\"text-align: right;\">\n",
       "      <th></th>\n",
       "      <th>order_id</th>\n",
       "      <th>customer_id</th>\n",
       "      <th>order_status</th>\n",
       "      <th>order_purchase_timestamp</th>\n",
       "      <th>order_approved_at</th>\n",
       "      <th>order_delivered_carrier_date</th>\n",
       "      <th>order_delivered_customer_date</th>\n",
       "      <th>order_estimated_delivery_date</th>\n",
       "    </tr>\n",
       "  </thead>\n",
       "  <tbody>\n",
       "    <tr>\n",
       "      <th>0</th>\n",
       "      <td>e481f51cbdc54678b7cc49136f2d6af7</td>\n",
       "      <td>9ef432eb6251297304e76186b10a928d</td>\n",
       "      <td>delivered</td>\n",
       "      <td>2017-10-02 10:56:33</td>\n",
       "      <td>2017-10-02 11:07:15</td>\n",
       "      <td>2017-10-04 19:55:00</td>\n",
       "      <td>2017-10-10 21:25:13</td>\n",
       "      <td>2017-10-18 00:00:00</td>\n",
       "    </tr>\n",
       "    <tr>\n",
       "      <th>1</th>\n",
       "      <td>53cdb2fc8bc7dce0b6741e2150273451</td>\n",
       "      <td>b0830fb4747a6c6d20dea0b8c802d7ef</td>\n",
       "      <td>delivered</td>\n",
       "      <td>2018-07-24 20:41:37</td>\n",
       "      <td>2018-07-26 03:24:27</td>\n",
       "      <td>2018-07-26 14:31:00</td>\n",
       "      <td>2018-08-07 15:27:45</td>\n",
       "      <td>2018-08-13 00:00:00</td>\n",
       "    </tr>\n",
       "    <tr>\n",
       "      <th>2</th>\n",
       "      <td>47770eb9100c2d0c44946d9cf07ec65d</td>\n",
       "      <td>41ce2a54c0b03bf3443c3d931a367089</td>\n",
       "      <td>delivered</td>\n",
       "      <td>2018-08-08 08:38:49</td>\n",
       "      <td>2018-08-08 08:55:23</td>\n",
       "      <td>2018-08-08 13:50:00</td>\n",
       "      <td>2018-08-17 18:06:29</td>\n",
       "      <td>2018-09-04 00:00:00</td>\n",
       "    </tr>\n",
       "    <tr>\n",
       "      <th>3</th>\n",
       "      <td>949d5b44dbf5de918fe9c16f97b45f8a</td>\n",
       "      <td>f88197465ea7920adcdbec7375364d82</td>\n",
       "      <td>delivered</td>\n",
       "      <td>2017-11-18 19:28:06</td>\n",
       "      <td>2017-11-18 19:45:59</td>\n",
       "      <td>2017-11-22 13:39:59</td>\n",
       "      <td>2017-12-02 00:28:42</td>\n",
       "      <td>2017-12-15 00:00:00</td>\n",
       "    </tr>\n",
       "    <tr>\n",
       "      <th>4</th>\n",
       "      <td>ad21c59c0840e6cb83a9ceb5573f8159</td>\n",
       "      <td>8ab97904e6daea8866dbdbc4fb7aad2c</td>\n",
       "      <td>delivered</td>\n",
       "      <td>2018-02-13 21:18:39</td>\n",
       "      <td>2018-02-13 22:20:29</td>\n",
       "      <td>2018-02-14 19:46:34</td>\n",
       "      <td>2018-02-16 18:17:02</td>\n",
       "      <td>2018-02-26 00:00:00</td>\n",
       "    </tr>\n",
       "  </tbody>\n",
       "</table>\n",
       "</div>"
      ],
      "text/plain": [
       "                           order_id                       customer_id  \\\n",
       "0  e481f51cbdc54678b7cc49136f2d6af7  9ef432eb6251297304e76186b10a928d   \n",
       "1  53cdb2fc8bc7dce0b6741e2150273451  b0830fb4747a6c6d20dea0b8c802d7ef   \n",
       "2  47770eb9100c2d0c44946d9cf07ec65d  41ce2a54c0b03bf3443c3d931a367089   \n",
       "3  949d5b44dbf5de918fe9c16f97b45f8a  f88197465ea7920adcdbec7375364d82   \n",
       "4  ad21c59c0840e6cb83a9ceb5573f8159  8ab97904e6daea8866dbdbc4fb7aad2c   \n",
       "\n",
       "  order_status order_purchase_timestamp    order_approved_at  \\\n",
       "0    delivered      2017-10-02 10:56:33  2017-10-02 11:07:15   \n",
       "1    delivered      2018-07-24 20:41:37  2018-07-26 03:24:27   \n",
       "2    delivered      2018-08-08 08:38:49  2018-08-08 08:55:23   \n",
       "3    delivered      2017-11-18 19:28:06  2017-11-18 19:45:59   \n",
       "4    delivered      2018-02-13 21:18:39  2018-02-13 22:20:29   \n",
       "\n",
       "  order_delivered_carrier_date order_delivered_customer_date  \\\n",
       "0          2017-10-04 19:55:00           2017-10-10 21:25:13   \n",
       "1          2018-07-26 14:31:00           2018-08-07 15:27:45   \n",
       "2          2018-08-08 13:50:00           2018-08-17 18:06:29   \n",
       "3          2017-11-22 13:39:59           2017-12-02 00:28:42   \n",
       "4          2018-02-14 19:46:34           2018-02-16 18:17:02   \n",
       "\n",
       "  order_estimated_delivery_date  \n",
       "0           2017-10-18 00:00:00  \n",
       "1           2018-08-13 00:00:00  \n",
       "2           2018-09-04 00:00:00  \n",
       "3           2017-12-15 00:00:00  \n",
       "4           2018-02-26 00:00:00  "
      ]
     },
     "execution_count": 89,
     "metadata": {},
     "output_type": "execute_result"
    }
   ],
   "source": [
    "orders.head() # Display the first few rows of the orders dataset"
   ]
  },
  {
   "cell_type": "code",
   "execution_count": null,
   "metadata": {},
   "outputs": [
    {
     "name": "stdout",
     "output_type": "stream",
     "text": [
      "<class 'pandas.core.frame.DataFrame'>\n",
      "RangeIndex: 99441 entries, 0 to 99440\n",
      "Data columns (total 8 columns):\n",
      " #   Column                         Non-Null Count  Dtype \n",
      "---  ------                         --------------  ----- \n",
      " 0   order_id                       99441 non-null  object\n",
      " 1   customer_id                    99441 non-null  object\n",
      " 2   order_status                   99441 non-null  object\n",
      " 3   order_purchase_timestamp       99441 non-null  object\n",
      " 4   order_approved_at              99281 non-null  object\n",
      " 5   order_delivered_carrier_date   97658 non-null  object\n",
      " 6   order_delivered_customer_date  96476 non-null  object\n",
      " 7   order_estimated_delivery_date  99441 non-null  object\n",
      "dtypes: object(8)\n",
      "memory usage: 6.1+ MB\n"
     ]
    }
   ],
   "source": [
    "orders.info() # Get information about the orders dataset"
   ]
  },
  {
   "cell_type": "code",
   "execution_count": null,
   "metadata": {},
   "outputs": [
    {
     "data": {
      "text/plain": [
       "99441"
      ]
     },
     "execution_count": 91,
     "metadata": {},
     "output_type": "execute_result"
    }
   ],
   "source": [
    "orders['order_id'].nunique() # Count unique order IDs"
   ]
  },
  {
   "cell_type": "code",
   "execution_count": null,
   "metadata": {},
   "outputs": [
    {
     "data": {
      "text/plain": [
       "99441"
      ]
     },
     "execution_count": 92,
     "metadata": {},
     "output_type": "execute_result"
    }
   ],
   "source": [
    "orders['customer_id'].nunique() # Count unique customer IDs"
   ]
  },
  {
   "cell_type": "markdown",
   "metadata": {},
   "source": [
    "### Combine orders and customers\n",
    "These datasets have a 1-1 mapping on customer_id"
   ]
  },
  {
   "cell_type": "code",
   "execution_count": null,
   "metadata": {},
   "outputs": [],
   "source": [
    "orders = orders.merge(customers, on='customer_id', how='left') # Merge orders with customers dataset"
   ]
  },
  {
   "cell_type": "code",
   "execution_count": null,
   "metadata": {},
   "outputs": [
    {
     "data": {
      "text/html": [
       "<div>\n",
       "<style scoped>\n",
       "    .dataframe tbody tr th:only-of-type {\n",
       "        vertical-align: middle;\n",
       "    }\n",
       "\n",
       "    .dataframe tbody tr th {\n",
       "        vertical-align: top;\n",
       "    }\n",
       "\n",
       "    .dataframe thead th {\n",
       "        text-align: right;\n",
       "    }\n",
       "</style>\n",
       "<table border=\"1\" class=\"dataframe\">\n",
       "  <thead>\n",
       "    <tr style=\"text-align: right;\">\n",
       "      <th></th>\n",
       "      <th>order_id</th>\n",
       "      <th>customer_id</th>\n",
       "      <th>order_status</th>\n",
       "      <th>order_purchase_timestamp</th>\n",
       "      <th>order_approved_at</th>\n",
       "      <th>order_delivered_carrier_date</th>\n",
       "      <th>order_delivered_customer_date</th>\n",
       "      <th>order_estimated_delivery_date</th>\n",
       "      <th>customer_unique_id</th>\n",
       "      <th>customer_zip_code_prefix</th>\n",
       "      <th>customer_city</th>\n",
       "      <th>customer_state</th>\n",
       "    </tr>\n",
       "  </thead>\n",
       "  <tbody>\n",
       "    <tr>\n",
       "      <th>0</th>\n",
       "      <td>e481f51cbdc54678b7cc49136f2d6af7</td>\n",
       "      <td>9ef432eb6251297304e76186b10a928d</td>\n",
       "      <td>delivered</td>\n",
       "      <td>2017-10-02 10:56:33</td>\n",
       "      <td>2017-10-02 11:07:15</td>\n",
       "      <td>2017-10-04 19:55:00</td>\n",
       "      <td>2017-10-10 21:25:13</td>\n",
       "      <td>2017-10-18 00:00:00</td>\n",
       "      <td>7c396fd4830fd04220f754e42b4e5bff</td>\n",
       "      <td>3149</td>\n",
       "      <td>sao paulo</td>\n",
       "      <td>SP</td>\n",
       "    </tr>\n",
       "    <tr>\n",
       "      <th>1</th>\n",
       "      <td>53cdb2fc8bc7dce0b6741e2150273451</td>\n",
       "      <td>b0830fb4747a6c6d20dea0b8c802d7ef</td>\n",
       "      <td>delivered</td>\n",
       "      <td>2018-07-24 20:41:37</td>\n",
       "      <td>2018-07-26 03:24:27</td>\n",
       "      <td>2018-07-26 14:31:00</td>\n",
       "      <td>2018-08-07 15:27:45</td>\n",
       "      <td>2018-08-13 00:00:00</td>\n",
       "      <td>af07308b275d755c9edb36a90c618231</td>\n",
       "      <td>47813</td>\n",
       "      <td>barreiras</td>\n",
       "      <td>BA</td>\n",
       "    </tr>\n",
       "    <tr>\n",
       "      <th>2</th>\n",
       "      <td>47770eb9100c2d0c44946d9cf07ec65d</td>\n",
       "      <td>41ce2a54c0b03bf3443c3d931a367089</td>\n",
       "      <td>delivered</td>\n",
       "      <td>2018-08-08 08:38:49</td>\n",
       "      <td>2018-08-08 08:55:23</td>\n",
       "      <td>2018-08-08 13:50:00</td>\n",
       "      <td>2018-08-17 18:06:29</td>\n",
       "      <td>2018-09-04 00:00:00</td>\n",
       "      <td>3a653a41f6f9fc3d2a113cf8398680e8</td>\n",
       "      <td>75265</td>\n",
       "      <td>vianopolis</td>\n",
       "      <td>GO</td>\n",
       "    </tr>\n",
       "    <tr>\n",
       "      <th>3</th>\n",
       "      <td>949d5b44dbf5de918fe9c16f97b45f8a</td>\n",
       "      <td>f88197465ea7920adcdbec7375364d82</td>\n",
       "      <td>delivered</td>\n",
       "      <td>2017-11-18 19:28:06</td>\n",
       "      <td>2017-11-18 19:45:59</td>\n",
       "      <td>2017-11-22 13:39:59</td>\n",
       "      <td>2017-12-02 00:28:42</td>\n",
       "      <td>2017-12-15 00:00:00</td>\n",
       "      <td>7c142cf63193a1473d2e66489a9ae977</td>\n",
       "      <td>59296</td>\n",
       "      <td>sao goncalo do amarante</td>\n",
       "      <td>RN</td>\n",
       "    </tr>\n",
       "    <tr>\n",
       "      <th>4</th>\n",
       "      <td>ad21c59c0840e6cb83a9ceb5573f8159</td>\n",
       "      <td>8ab97904e6daea8866dbdbc4fb7aad2c</td>\n",
       "      <td>delivered</td>\n",
       "      <td>2018-02-13 21:18:39</td>\n",
       "      <td>2018-02-13 22:20:29</td>\n",
       "      <td>2018-02-14 19:46:34</td>\n",
       "      <td>2018-02-16 18:17:02</td>\n",
       "      <td>2018-02-26 00:00:00</td>\n",
       "      <td>72632f0f9dd73dfee390c9b22eb56dd6</td>\n",
       "      <td>9195</td>\n",
       "      <td>santo andre</td>\n",
       "      <td>SP</td>\n",
       "    </tr>\n",
       "  </tbody>\n",
       "</table>\n",
       "</div>"
      ],
      "text/plain": [
       "                           order_id                       customer_id  \\\n",
       "0  e481f51cbdc54678b7cc49136f2d6af7  9ef432eb6251297304e76186b10a928d   \n",
       "1  53cdb2fc8bc7dce0b6741e2150273451  b0830fb4747a6c6d20dea0b8c802d7ef   \n",
       "2  47770eb9100c2d0c44946d9cf07ec65d  41ce2a54c0b03bf3443c3d931a367089   \n",
       "3  949d5b44dbf5de918fe9c16f97b45f8a  f88197465ea7920adcdbec7375364d82   \n",
       "4  ad21c59c0840e6cb83a9ceb5573f8159  8ab97904e6daea8866dbdbc4fb7aad2c   \n",
       "\n",
       "  order_status order_purchase_timestamp    order_approved_at  \\\n",
       "0    delivered      2017-10-02 10:56:33  2017-10-02 11:07:15   \n",
       "1    delivered      2018-07-24 20:41:37  2018-07-26 03:24:27   \n",
       "2    delivered      2018-08-08 08:38:49  2018-08-08 08:55:23   \n",
       "3    delivered      2017-11-18 19:28:06  2017-11-18 19:45:59   \n",
       "4    delivered      2018-02-13 21:18:39  2018-02-13 22:20:29   \n",
       "\n",
       "  order_delivered_carrier_date order_delivered_customer_date  \\\n",
       "0          2017-10-04 19:55:00           2017-10-10 21:25:13   \n",
       "1          2018-07-26 14:31:00           2018-08-07 15:27:45   \n",
       "2          2018-08-08 13:50:00           2018-08-17 18:06:29   \n",
       "3          2017-11-22 13:39:59           2017-12-02 00:28:42   \n",
       "4          2018-02-14 19:46:34           2018-02-16 18:17:02   \n",
       "\n",
       "  order_estimated_delivery_date                customer_unique_id  \\\n",
       "0           2017-10-18 00:00:00  7c396fd4830fd04220f754e42b4e5bff   \n",
       "1           2018-08-13 00:00:00  af07308b275d755c9edb36a90c618231   \n",
       "2           2018-09-04 00:00:00  3a653a41f6f9fc3d2a113cf8398680e8   \n",
       "3           2017-12-15 00:00:00  7c142cf63193a1473d2e66489a9ae977   \n",
       "4           2018-02-26 00:00:00  72632f0f9dd73dfee390c9b22eb56dd6   \n",
       "\n",
       "   customer_zip_code_prefix            customer_city customer_state  \n",
       "0                      3149                sao paulo             SP  \n",
       "1                     47813                barreiras             BA  \n",
       "2                     75265               vianopolis             GO  \n",
       "3                     59296  sao goncalo do amarante             RN  \n",
       "4                      9195              santo andre             SP  "
      ]
     },
     "execution_count": 94,
     "metadata": {},
     "output_type": "execute_result"
    }
   ],
   "source": [
    "orders.head() # Display the first few rows of the merged dataset"
   ]
  },
  {
   "cell_type": "code",
   "execution_count": null,
   "metadata": {},
   "outputs": [
    {
     "data": {
      "text/plain": [
       "customer_unique_id\n",
       "8d50f5eadf50201ccdcedfb9e2ac8455    17\n",
       "3e43e6105506432c953e165fb2acf44c     9\n",
       "1b6c7548a2a1f9037c1fd3ddfed95f33     7\n",
       "6469f99c1f9dfae7733b25662e7f1782     7\n",
       "ca77025e7201e3b30c44b472ff346268     7\n",
       "                                    ..\n",
       "ffeefd086fc667aaf6595c8fe3d22d54     1\n",
       "ffef0ffa736c7b3d9af741611089729b     1\n",
       "fff1afc79f6b5db1e235a4a6c30ceda7     1\n",
       "fff1bdd5c5e37ca79dd74deeb91aa5b6     1\n",
       "fff22793223fe80c97a8fd02ac5c6295     1\n",
       "Name: order_id, Length: 96096, dtype: int64"
      ]
     },
     "execution_count": 98,
     "metadata": {},
     "output_type": "execute_result"
    }
   ],
   "source": [
    "orders.groupby('customer_unique_id')['order_id'].nunique().sort_values(ascending=False) # Count the number of orders per customer"
   ]
  },
  {
   "cell_type": "markdown",
   "metadata": {},
   "source": [
    "order_id -> unique -> autogenerated\n",
    "\n",
    "customer_unique_id -> not unique in dataset, but represents the same customer every time\n",
    "\n",
    "customer_id -> unique per order -> multiple customer ids can belont to a single customer "
   ]
  }
 ],
 "metadata": {
  "kernelspec": {
   "display_name": ".venv",
   "language": "python",
   "name": "python3"
  },
  "language_info": {
   "codemirror_mode": {
    "name": "ipython",
    "version": 3
   },
   "file_extension": ".py",
   "mimetype": "text/x-python",
   "name": "python",
   "nbconvert_exporter": "python",
   "pygments_lexer": "ipython3",
   "version": "3.12.10"
  }
 },
 "nbformat": 4,
 "nbformat_minor": 2
}
